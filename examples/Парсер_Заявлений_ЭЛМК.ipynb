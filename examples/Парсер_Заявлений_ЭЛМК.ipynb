{
 "cells": [
  {
   "cell_type": "markdown",
   "metadata": {},
   "source": [
    "ПАРСЕР ЗАЯВЛЕНИЙ С ПОРТАЛА ЕИАС по разделу \"ЭЛМК\" (выдача медицинских книжек)"
   ]
  },
  {
   "cell_type": "markdown",
   "metadata": {},
   "source": [
    "ДЛЯ ЗАПУСКА НЕОБХОДИМО ВЫДЕЛИТЬ (СЛЕВА ПОЛОСКА СТАНЕТ СИНИМ ЦВЕТОМ) РАБОЧИЙ ЧАНК КОДА\n",
    "\n",
    "И НАЖАТЬ СОЧЕТАНИЕ КЛАВИШ: \"CTRL\" + \"ENTER\""
   ]
  },
  {
   "cell_type": "markdown",
   "metadata": {},
   "source": [
    "1 ЧАСТЬ"
   ]
  },
  {
   "cell_type": "markdown",
   "metadata": {},
   "source": [
    "для ELMK_PARSER_with_filter - СРАЗУ ПОСЛЕ ЗАПУСКА ЧАНКА КОДА НЕОБХОДИМО ОТКЛЮЧИТЬ ЗАЩИТУ БАНКОВСКИХ КАРТ В НАСТРОЙКАХ ЯНДЕКС-БРАУЗЕРА!!!"
   ]
  },
  {
   "cell_type": "code",
   "execution_count": null,
   "metadata": {
    "scrolled": true
   },
   "outputs": [
    {
     "name": "stdout",
     "output_type": "stream",
     "text": [
      "Модули успешно подгружены!\n",
      "Выберите и подтвердите сертификат, а затем нажмите клавишу Enter!!!\n",
      "Загрузить ранее выгруженный ДФ: да (y) / нет (n)?y\n",
      "Искомый лист присутствует в книге: <ДА>\n",
      "После проведения <подгрузки временного ранее сохраненного ДФ>\n",
      "размерность ДФ составила: \n",
      "    <1880> строк на <14> столбцов\n"
     ]
    },
    {
     "data": {
      "application/vnd.jupyter.widget-view+json": {
       "model_id": "a1626a9ec8814161ac99f1dbe0fe7958",
       "version_major": 2,
       "version_minor": 0
      },
      "text/plain": [
       "HBox(children=(FloatProgress(value=0.0, max=1880.0), HTML(value='')))"
      ]
     },
     "metadata": {},
     "output_type": "display_data"
    },
    {
     "name": "stdout",
     "output_type": "stream",
     "text": [
      "для отмены процесса парсинга введите х\n",
      "4778154192\n",
      "Timed out waiting for page to load\n",
      "Timed out waiting for page to load\n",
      "4778043832\n",
      "Timed out waiting for page to load\n",
      "Timed out waiting for page to load\n",
      "4777763126\n",
      "Timed out waiting for page to load\n",
      "Timed out waiting for page to load\n",
      "4777890839\n",
      "Timed out waiting for page to load\n",
      "4777578508\n",
      "Timed out waiting for page to load\n",
      "Timed out waiting for page to load\n",
      "4777553410\n",
      "Timed out waiting for page to load\n",
      "Timed out waiting for page to load\n",
      "4777603000\n",
      "Timed out waiting for page to load\n",
      "Timed out waiting for page to load\n",
      "4777544710\n",
      "Timed out waiting for page to load\n",
      "Timed out waiting for page to load\n",
      "4777483906\n",
      "Timed out waiting for page to load\n",
      "Timed out waiting for page to load\n",
      "4777484411\n",
      "Timed out waiting for page to load\n",
      "4777452283\n",
      "Timed out waiting for page to load\n",
      "Timed out waiting for page to load\n",
      "4777455839\n",
      "Timed out waiting for page to load\n",
      "Timed out waiting for page to load\n",
      "4777327685\n",
      "Timed out waiting for page to load\n",
      "Timed out waiting for page to load\n",
      "4777304994\n",
      "Timed out waiting for page to load\n",
      "4777309128\n",
      "Timed out waiting for page to load\n",
      "Timed out waiting for page to load\n",
      "4777292257\n",
      "Timed out waiting for page to load\n",
      "Timed out waiting for page to load\n",
      "4777282865\n",
      "Timed out waiting for page to load\n",
      "Timed out waiting for page to load\n",
      "4777299067\n",
      "Timed out waiting for page to load\n",
      "Timed out waiting for page to load\n",
      "4777276855\n",
      "Timed out waiting for page to load\n",
      "Timed out waiting for page to load\n",
      "4777200677\n",
      "Timed out waiting for page to load\n",
      "Timed out waiting for page to load\n",
      "4709750628\n",
      "Timed out waiting for page to load\n",
      "Timed out waiting for page to load\n",
      "4777137633\n",
      "Timed out waiting for page to load\n",
      "Timed out waiting for page to load\n",
      "4749517871\n",
      "Timed out waiting for page to load\n",
      "4776546708\n",
      "Timed out waiting for page to load\n",
      "4764959712\n",
      "Timed out waiting for page to load\n",
      "Timed out waiting for page to load\n",
      "4776133458\n",
      "Timed out waiting for page to load\n",
      "Timed out waiting for page to load\n",
      "4775800206\n",
      "Timed out waiting for page to load\n",
      "Timed out waiting for page to load\n",
      "4775573729\n",
      "Timed out waiting for page to load\n",
      "4775570797\n",
      "Timed out waiting for page to load\n",
      "4775534940\n",
      "Timed out waiting for page to load\n",
      "Timed out waiting for page to load\n",
      "4775146684\n",
      "Timed out waiting for page to load\n",
      "4774573459\n",
      "Timed out waiting for page to load\n",
      "Timed out waiting for page to load\n",
      "4774680360\n",
      "Timed out waiting for page to load\n"
     ]
    }
   ],
   "source": [
    "%run ELMK_PARSER.ipynb # 06.06.2024\n",
    "# %run ELMK_PARSER_with_filter.ipynb"
   ]
  },
  {
   "cell_type": "markdown",
   "metadata": {},
   "source": [
    "ЧЕРНОВИКИ!!!"
   ]
  },
  {
   "cell_type": "code",
   "execution_count": 8,
   "metadata": {},
   "outputs": [],
   "source": [
    "# from os import getcwd as os_getcwd\n",
    "# from os import chdir as os_chdir\n",
    "# # from os import listdir as os_listdir\n",
    "# # from os import makedirs as os_makedirs\n",
    "# # from os.path import isdir as os_path_isdir\n",
    "# # from os.path import exists as os_path_exists\n",
    "\n",
    "# # подгружаем собственные модули\n",
    "# home_dir = os_getcwd()\n",
    "# # необходимо поменять на рабочую папку со скриптами!\n",
    "# os_chdir(r'C:\\Users\\tabakaev_mv\\Desktop\\РАБОТА\\ЕИАС\\2024\\ЭЛМК\\Application_Parser')\n",
    "# #print(os_getcwd())\n",
    "# from functions import Processor\n",
    "# from append_to_txt_file import append_txt_file\n",
    "# from names_xpaths_constants import ERRORS_LOGS_DIR, ERRORS_FILE_NAME\n",
    "# os_chdir(home_dir)\n",
    "# #print(os_getcwd())\n",
    "# print('Модули успешно подгружены!')"
   ]
  },
  {
   "cell_type": "code",
   "execution_count": 9,
   "metadata": {},
   "outputs": [],
   "source": [
    "# %%time\n",
    "\n",
    "# try:\n",
    "#     # from selenium.common.exceptions import WebDriverException\n",
    "#     processor = Processor()\n",
    "#     browser = processor.get_browser()\n",
    "#     appl_dict, appl_df = Processor.start_parsing(browser=browser)\n",
    "#     df_merged = Processor.merge_dfs(dfs=appl_dict, appl_df=appl_df)\n",
    "#     Processor.save_tables(df_merged=df_merged, browser=browser)\n",
    "#     input()\n",
    "\n",
    "# except BaseException as e:\n",
    "#     print(e)\n",
    "#     file_name_path = \"\\\\\".join([ERRORS_LOGS_DIR, ERRORS_FILE_NAME])\n",
    "#     file_name_path = ERRORS_LOGS_DIR + \"\\\\\" + ERRORS_FILE_NAME\n",
    "#     append_txt_file(filename=ERRORS_FILE_NAME, text=str(e.__dict__))\n",
    "#     input()"
   ]
  }
 ],
 "metadata": {
  "kernelspec": {
   "display_name": "Python 3",
   "language": "python",
   "name": "python3"
  },
  "language_info": {
   "codemirror_mode": {
    "name": "ipython",
    "version": 3
   },
   "file_extension": ".py",
   "mimetype": "text/x-python",
   "name": "python",
   "nbconvert_exporter": "python",
   "pygments_lexer": "ipython3",
   "version": "3.7.6"
  }
 },
 "nbformat": 4,
 "nbformat_minor": 4
}
