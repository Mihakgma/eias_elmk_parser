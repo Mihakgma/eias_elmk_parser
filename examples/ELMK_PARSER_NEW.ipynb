{
 "cells": [
  {
   "cell_type": "code",
   "execution_count": 1,
   "metadata": {},
   "outputs": [],
   "source": [
    "from os import getcwd as os_getcwd\n",
    "from os import chdir as os_chdir\n",
    "import time\n",
    "from IPython.display import clear_output\n",
    "from selenium.common.exceptions import WebDriverException"
   ]
  },
  {
   "cell_type": "code",
   "execution_count": null,
   "metadata": {},
   "outputs": [],
   "source": []
  },
  {
   "cell_type": "code",
   "execution_count": 2,
   "metadata": {
    "scrolled": true
   },
   "outputs": [],
   "source": [
    "# подгружаем собственные модули\n",
    "home_dir = os_getcwd()\n",
    "# необходимо поменять на рабочую папку со скриптами!\n",
    "os_chdir(r'C:\\Users\\tabakaev_mv\\Desktop\\РАБОТА\\ЕИАС\\2024\\ЭЛМК\\APPLICATION_PARSER_NEW\\eias_elmk_parser\\src')\n",
    "from main import ELMKParser\n",
    "from classes.check_dates import DateChecker\n",
    "# from patterns.thread_func import thread\n",
    "print(*[(k,v) for (k,v) in ELMKParser.__dict__.items()], sep=\"\\n\")\n",
    "os_chdir(home_dir)\n",
    "print('Модули успешно подгружены!')\n",
    "clear_output(wait=False)"
   ]
  },
  {
   "cell_type": "code",
   "execution_count": null,
   "metadata": {},
   "outputs": [],
   "source": []
  },
  {
   "cell_type": "markdown",
   "metadata": {},
   "source": [
    "ФУНКЦИИ"
   ]
  },
  {
   "cell_type": "code",
   "execution_count": 3,
   "metadata": {},
   "outputs": [],
   "source": [
    "def print_time_diff(start: int,\n",
    "                    end: int,\n",
    "                    message: str):\n",
    "    difference_secs = end - start\n",
    "    difference_mins = difference_secs / 60\n",
    "    difference_hours = difference_mins / 60\n",
    "    print(f\"<{message}> for <{difference_mins}> minutes or <{difference_hours}> hours...\")"
   ]
  },
  {
   "cell_type": "code",
   "execution_count": 4,
   "metadata": {},
   "outputs": [],
   "source": [
    "def preprocess_time_stamp(ts: str):\n",
    "    out = f\"\\n-----<{ts}>-----\\n----\\n---\\n--\\n-\\n\"\n",
    "    return out"
   ]
  },
  {
   "cell_type": "code",
   "execution_count": 5,
   "metadata": {},
   "outputs": [],
   "source": [
    "def screen_saver(start: int,\n",
    "                 end: int,\n",
    "                 file_path: str,\n",
    "                 captured,\n",
    "                 start_ts: str,\n",
    "                 end_ts: str,\n",
    "                 m=\"Logging from cell have been lasted\",\n",
    "                 write_regime: str = 'a'):\n",
    "    with open(file_path, write_regime) as file:\n",
    "        file.write(preprocess_time_stamp(start_ts))\n",
    "        file.write(captured)\n",
    "        file.write(preprocess_time_stamp(end_ts))\n",
    "    print_time_diff(start=start,\n",
    "                    end=end,\n",
    "                    message=m)"
   ]
  },
  {
   "cell_type": "code",
   "execution_count": null,
   "metadata": {},
   "outputs": [],
   "source": [
    "%%capture cell_output\n",
    "\n",
    "\n",
    "d_checker = DateChecker(\"\")\n",
    "\n",
    "try:\n",
    "    start = time.time()\n",
    "    start_ts = d_checker.get_today_date('long')\n",
    "    need_parse_left_df_value = False\n",
    "    personal_data_by_filter=True\n",
    "\n",
    "    ELMKParser.start(need_parse_left_df=need_parse_left_df_value,\n",
    "                     personal_data_by_filter=personal_data_by_filter)\n",
    "    \n",
    "except WebDriverException as wde:\n",
    "    print(wde)\n",
    "except KeyboardInterrupt as kbi:\n",
    "    print(kbi)\n",
    "\n",
    "# time.sleep(5*60)"
   ]
  },
  {
   "cell_type": "code",
   "execution_count": null,
   "metadata": {},
   "outputs": [],
   "source": [
    "end = time.time()\n",
    "end_ts = d_checker.get_today_date('long')\n",
    "\n",
    "screen_saver(start=start,\n",
    "             end=end,\n",
    "             file_path=r'C:\\Users\\tabakaev_mv\\LOGS\\eias_log_output.txt',\n",
    "             captured=cell_output.stdout,\n",
    "             start_ts=start_ts,\n",
    "             end_ts=end_ts)"
   ]
  },
  {
   "cell_type": "code",
   "execution_count": null,
   "metadata": {},
   "outputs": [],
   "source": []
  },
  {
   "cell_type": "code",
   "execution_count": null,
   "metadata": {},
   "outputs": [],
   "source": []
  },
  {
   "cell_type": "code",
   "execution_count": null,
   "metadata": {},
   "outputs": [],
   "source": []
  },
  {
   "cell_type": "code",
   "execution_count": null,
   "metadata": {},
   "outputs": [],
   "source": []
  },
  {
   "cell_type": "code",
   "execution_count": null,
   "metadata": {},
   "outputs": [],
   "source": []
  },
  {
   "cell_type": "code",
   "execution_count": null,
   "metadata": {},
   "outputs": [],
   "source": []
  },
  {
   "cell_type": "markdown",
   "metadata": {},
   "source": [
    "ЧЕРНОВИКИ!!!"
   ]
  },
  {
   "cell_type": "code",
   "execution_count": 3,
   "metadata": {},
   "outputs": [],
   "source": [
    "# %%time\n",
    "# hours_max = 15\n",
    "# h_elapsed = 0\n",
    "# mins_elapsed = 0\n",
    "# # ВНИМАНИЕ!!!\n",
    "# # ДЛЯ того, чтобы начать заново необходимо выставить need_parse_left_df=True\n",
    "# need_parse_left_df_value = False\n",
    "# personal_data_by_filter=True\n",
    "# counter = 0\n",
    "# close = \"\"\n",
    "# while h_elapsed < hours_max and (close.lower().strip() != \"x\" or close.lower().strip() != \"х\"):\n",
    "#     counter += 1\n",
    "#     start = time.time()\n",
    "#     try:\n",
    "#         if counter == 1:\n",
    "#             ELMKParser.start(need_parse_left_df=need_parse_left_df_value,\n",
    "#                              personal_data_by_filter=personal_data_by_filter)\n",
    "#         else:\n",
    "#             ELMKParser.start(need_parse_left_df=False,\n",
    "#                              personal_data_by_filter=personal_data_by_filter)\n",
    "#     except BaseException as e:\n",
    "#         print(e)\n",
    "# #         close = input(\"Enter x to quit\")\n",
    "#     end = time.time()\n",
    "#     difference_secs = end - start\n",
    "#     difference_mins = difference_secs / 60\n",
    "#     difference_hours = difference_mins / 60\n",
    "#     h_elapsed += difference_hours\n",
    "#     mins_elapsed += difference_mins\n",
    "# #     if counter % 2 == 0:\n",
    "# #         clear_output(wait=False)\n",
    "# #         print(\"Output has been successfully cleared!\")\n",
    "# print(f\"TOTALLY ELAPSED <{mins_elapsed}> mins OR <{h_elapsed}> HOURS\")"
   ]
  }
 ],
 "metadata": {
  "kernelspec": {
   "display_name": "Python 3",
   "language": "python",
   "name": "python3"
  },
  "language_info": {
   "codemirror_mode": {
    "name": "ipython",
    "version": 3
   },
   "file_extension": ".py",
   "mimetype": "text/x-python",
   "name": "python",
   "nbconvert_exporter": "python",
   "pygments_lexer": "ipython3",
   "version": "3.7.6"
  }
 },
 "nbformat": 4,
 "nbformat_minor": 4
}
